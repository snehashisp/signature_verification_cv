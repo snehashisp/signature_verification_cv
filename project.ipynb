{
 "cells": [
  {
   "cell_type": "code",
   "execution_count": null,
   "metadata": {},
   "outputs": [],
   "source": [
    "#!/usr/bin/env python\n",
    "# coding: utf-8\n",
    "\n",
    "import cv2\n",
    "import numpy as np\n",
    "import matplotlib.pyplot as plt\n",
    "import inspect\n",
    "import random\n",
    "import os"
   ]
  },
  {
   "cell_type": "code",
   "execution_count": null,
   "metadata": {},
   "outputs": [],
   "source": [
    "#return keypoints from an image using SURF\n",
    "def getSURFMatches(image,param):\n",
    "\n",
    "    #use SURF to get set of keypoints and corresponding descriptors\n",
    "    sift = cv2.xfeatures2d.SURF_create(param)\n",
    "    kp1,des1 = sift.detectAndCompute(image,None)\n",
    "    return kp1,des1\n",
    "\n",
    "#returns set of keypoints from the set of images provided\n",
    "def getRefSet(imageSet,param):\n",
    "    \n",
    "    pointsSet = []\n",
    "    for img in imageSet:\n",
    "        p,d = getSURFMatches(img,param)\n",
    "        pointsSet += [d]\n",
    "    return pointsSet\n",
    "\n",
    "#returns a set of images present in a folder\n",
    "def getImageSet(foldername):\n",
    "    images = [cv2.imread(foldername + str(i)) for i in os.listdir(foldername)]\n",
    "    return images\n",
    "\n",
    "#computes the set of points in a query image that are less than an average distance from \n",
    "#the set of reference points\n",
    "def getBestPoints(rpset,qpset):\n",
    "    \n",
    "    dists = []\n",
    "    for q in qpset:\n",
    "        sumn = np.sum(np.linalg.norm(rpset - q))\n",
    "        dists += [sumn]\n",
    "    \n",
    "    avg = sum(dists)/len(dists)\n",
    "    points = []\n",
    "    for i,d in enumerate(dists):\n",
    "        if d < avg:\n",
    "            points += [qpset[i]]\n",
    "            \n",
    "    return points\n",
    "\n",
    "#computes the set of stable points for as set of images using n-1 cross validation methods\n",
    "def createTestSet(imageSet,param):\n",
    "    \n",
    "    #get total set of SURF points for all images\n",
    "    totalPset = getRefSet(imageSet,param)\n",
    "    tsetPoints = []\n",
    "    for i,qpset in enumerate(totalPset):\n",
    "        #reference set\n",
    "        rpset = np.concatenate(totalPset[0:i] + totalPset[i+1:])\n",
    "        tsetPoints += [getBestPoints(rpset,qpset)]\n",
    "        \n",
    "    return tsetPoints\n",
    "        "
   ]
  },
  {
   "cell_type": "code",
   "execution_count": 27,
   "metadata": {},
   "outputs": [],
   "source": [
    "#imageset = getImageSet(\"Dataset_4NSigComp2010/TrainingSet/Reference/\")\n",
    "#rset = createTestSet(imageset,400)\n",
    "#nrset = np.concatenate(rset)\n",
    "#nrset.shape"
   ]
  }
 ],
 "metadata": {
  "kernelspec": {
   "display_name": "Python 3",
   "language": "python",
   "name": "python3"
  },
  "language_info": {
   "codemirror_mode": {
    "name": "ipython",
    "version": 3
   },
   "file_extension": ".py",
   "mimetype": "text/x-python",
   "name": "python",
   "nbconvert_exporter": "python",
   "pygments_lexer": "ipython3",
   "version": "3.7.1"
  }
 },
 "nbformat": 4,
 "nbformat_minor": 2
}
